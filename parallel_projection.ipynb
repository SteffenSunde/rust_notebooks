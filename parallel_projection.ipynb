{
 "cells": [
  {
   "cell_type": "code",
   "execution_count": null,
   "metadata": {},
   "outputs": [],
   "source": []
  },
  {
   "cell_type": "markdown",
   "metadata": {},
   "source": [
    "# Parallel projection\n",
    "\n",
    "3D stress vectors are projected onto the candidate plane for calculations of fatigue damage criteria in the plane.\n",
    "\n",
    "TODO: How to use nalgebra??"
   ]
  },
  {
   "cell_type": "code",
   "execution_count": 10,
   "metadata": {},
   "outputs": [],
   "source": [
    "extern crate ndarray;\n",
    "\n",
    "use std::fs;"
   ]
  },
  {
   "cell_type": "code",
   "execution_count": 5,
   "metadata": {},
   "outputs": [
    {
     "ename": "Error",
     "evalue": "unresolved import `nalgebra::Vec3`",
     "output_type": "error",
     "traceback": [
      "use nalgebra::Vec3;",
      "\u001b[91m    ^^^^^^^^^^^^^^\u001b[0m \u001b[94mno `Vec3` in the root\u001b[0m",
      "unresolved import `nalgebra::Vec3`"
     ]
    }
   ],
   "source": [
    "use nalgebra::Vec3;"
   ]
  },
  {
   "cell_type": "code",
   "execution_count": 9,
   "metadata": {},
   "outputs": [
    {
     "ename": "Error",
     "evalue": "unresolved import `nalgebra::Vec3`",
     "output_type": "error",
     "traceback": [
      "use nalgebra::Vec3;",
      "\u001b[91m    ^^^^^^^^^^^^^^\u001b[0m \u001b[94mno `Vec3` in the root\u001b[0m",
      "unresolved import `nalgebra::Vec3`"
     ]
    }
   ],
   "source": [
    "use nalgebra::Vec3;"
   ]
  },
  {
   "cell_type": "code",
   "execution_count": null,
   "metadata": {},
   "outputs": [],
   "source": [
    "let a = nalgebra::"
   ]
  }
 ],
 "metadata": {
  "kernelspec": {
   "display_name": "Rust",
   "language": "rust",
   "name": "rust"
  },
  "language_info": {
   "codemirror_mode": "rust",
   "file_extension": ".rs",
   "mimetype": "text/rust",
   "name": "Rust",
   "pygment_lexer": "rust",
   "version": ""
  }
 },
 "nbformat": 4,
 "nbformat_minor": 4
}
