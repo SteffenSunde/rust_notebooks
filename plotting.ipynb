{
 "cells": [
  {
   "cell_type": "markdown",
   "metadata": {},
   "source": [
    "# Plotting\n",
    "\n",
    "Plotting in rust is still under development. [Many libraries](https://lib.rs/search?q=plotting) are being developed and seems promising. The most promising alternatives right now are probably\n",
    "\n",
    "- [gnuplot](https://github.com/SiegeLord/RustGnuplot) provides a rust interface to [gnuplot](http://www.gnuplot.info/) executable.\n",
    "- [plotly](https://github.com/igiagkiozis/plotly) interfaces the quite powerful JavaScript OS plotting library [plotly](https://plot.ly/javascript/)\n",
    "- [plotters](https://github.com/38/plotters) supports a variety of back-ends\n",
    "\n",
    "Displaying plots in notebooks does not work yet. The best bet is probably to save a figure file and then display it using markdown or html. A potential problem though, is that browser will cache the figure and refuse to reload, thinking that the image is not changed. Anyhow."
   ]
  },
  {
   "cell_type": "code",
   "execution_count": 2,
   "metadata": {},
   "outputs": [],
   "source": [
    ":dep gnuplot"
   ]
  },
  {
   "cell_type": "code",
   "execution_count": 3,
   "metadata": {},
   "outputs": [],
   "source": [
    "use gnuplot::*;\n",
    "use std::f64::consts::PI;"
   ]
  },
  {
   "cell_type": "code",
   "execution_count": 4,
   "metadata": {},
   "outputs": [],
   "source": [
    "let x_values: Vec<f64> = (1..100).map(|x| (x as f64)*4.0*PI/100.0).collect();\n",
    "let y_values: Vec<f64> = x_values.iter().map(|x| x.sin()).collect();"
   ]
  },
  {
   "cell_type": "code",
   "execution_count": 6,
   "metadata": {},
   "outputs": [],
   "source": [
    "let mut fg: gnuplot::Figure = Figure::new();\n",
    "fg.axes2d()\n",
    "    .set_title(\"Example plot\", &[])\n",
    "    .set_legend(Graph(0.5), Graph(0.9), &[], &[])\n",
    "    .set_x_label(\"x\", &[])\n",
    "    .set_y_label(\"y\", &[])\n",
    "    .lines(\n",
    "        &x_values,\n",
    "        &y_values,\n",
    "        &[Caption(\"Sine function\")],\n",
    "    );\n",
    "fg.set_terminal(\"pngcairo\", \"example_gnuplot.png\");\n",
    "fg.show().unwrap();"
   ]
  },
  {
   "cell_type": "markdown",
   "metadata": {},
   "source": [
    "![Parabola](example_gnuplot.png)"
   ]
  },
  {
   "cell_type": "markdown",
   "metadata": {},
   "source": [
    "### Interactive plots in notebook\n",
    "\n",
    "Data scientists really likes their interactive plots. Rostami's great [blog](https://shahinrostami.com/posts/programming/rust-notebooks/better-plotting-with-plotly/) uses [plotly for rust](https://github.com/igiagkiozis/plotly) and shows a work-around to get interactive html/js plots using the plotly backend."
   ]
  }
 ],
 "metadata": {
  "kernelspec": {
   "display_name": "Rust",
   "language": "rust",
   "name": "rust"
  },
  "language_info": {
   "codemirror_mode": "rust",
   "file_extension": ".rs",
   "mimetype": "text/rust",
   "name": "Rust",
   "pygment_lexer": "rust",
   "version": ""
  }
 },
 "nbformat": 4,
 "nbformat_minor": 4
}
