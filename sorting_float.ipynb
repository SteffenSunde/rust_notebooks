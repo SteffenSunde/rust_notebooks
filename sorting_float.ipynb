{
 "cells": [
  {
   "cell_type": "markdown",
   "metadata": {},
   "source": [
    "# Test\n",
    "\n",
    "Testing notebook functionality for rust.\n",
    "\n",
    "- [Jupyter Kernel: EvCxR](https://github.com/google/evcxr/tree/master/evcxr_jupyter)"
   ]
  },
  {
   "cell_type": "code",
   "execution_count": 2,
   "metadata": {},
   "outputs": [],
   "source": [
    ":dep num\n",
    "\n",
    "use core::cmp::Ordering;\n",
    "use num::Float;\n",
    "use core::f64::NAN;\n",
    "use std::any::type_name;"
   ]
  },
  {
   "cell_type": "code",
   "execution_count": 3,
   "metadata": {},
   "outputs": [],
   "source": [
    "fn order_nanlast<F: Float>(a: &F, b: &F) -> Ordering {\n",
    "    /// Order floats by putting NaN last\n",
    "    match (a, b) {\n",
    "        (x, y) if x.is_nan() && y.is_nan() => Ordering::Equal,\n",
    "        (x, _) if x.is_nan() => Ordering::Greater,\n",
    "        (_, y) if y.is_nan() => Ordering::Less,\n",
    "        (_, _) => a.partial_cmp(b).unwrap()\n",
    "    }\n",
    "}"
   ]
  },
  {
   "cell_type": "code",
   "execution_count": 4,
   "metadata": {},
   "outputs": [],
   "source": [
    "let mut numbers: std::vec::Vec<f64> = vec![5.0, 3.14, NAN, 6.9, 2.72, 1.57];"
   ]
  },
  {
   "cell_type": "code",
   "execution_count": 5,
   "metadata": {},
   "outputs": [
    {
     "data": {
      "text/html": [
       "<table><tr><th>Variable</th><th>Type</th></tr><tr><td>numbers</td><td>std :: vec :: Vec &lt; f64 &gt;</td><tr></table>"
      ],
      "text/plain": [
       "numbers: std :: vec :: Vec < f64 >\n"
      ]
     },
     "execution_count": 5,
     "metadata": {},
     "output_type": "execute_result"
    }
   ],
   "source": [
    ":vars"
   ]
  },
  {
   "cell_type": "code",
   "execution_count": 6,
   "metadata": {},
   "outputs": [
    {
     "name": "stdout",
     "output_type": "stream",
     "text": [
      "[1.57, 2.72, 3.14, 5.0, 6.9, NaN]\n"
     ]
    }
   ],
   "source": [
    "numbers.sort_by(order_nanlast);\n",
    "println!(\"{:?}\", numbers);"
   ]
  },
  {
   "cell_type": "code",
   "execution_count": null,
   "metadata": {},
   "outputs": [],
   "source": []
  }
 ],
 "metadata": {
  "kernelspec": {
   "display_name": "Rust",
   "language": "rust",
   "name": "rust"
  },
  "language_info": {
   "codemirror_mode": "rust",
   "file_extension": ".rs",
   "mimetype": "text/rust",
   "name": "Rust",
   "pygment_lexer": "rust",
   "version": ""
  }
 },
 "nbformat": 4,
 "nbformat_minor": 4
}
