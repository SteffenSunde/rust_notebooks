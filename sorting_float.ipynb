{
 "cells": [
  {
   "cell_type": "markdown",
   "metadata": {},
   "source": [
    "# Sorting floats\n",
    "\n",
    "Rust implements [IEEE 745](https://en.wikipedia.org/wiki/IEEE_754) standard for floating points. This means floating point numbers are not totally ordered and sorting becomes slightly complicated. "
   ]
  },
  {
   "cell_type": "code",
   "execution_count": 2,
   "metadata": {},
   "outputs": [],
   "source": [
    ":dep num\n",
    "\n",
    "use core::cmp::Ordering;\n",
    "use num::Float;\n",
    "use core::f64::{NAN, INFINITY, NEG_INFINITY};\n",
    "use std::any::type_name;"
   ]
  },
  {
   "cell_type": "markdown",
   "metadata": {},
   "source": [
    "Since integers are totally ordered ```i32``` is [std::cmp::Ord](https://doc.rust-lang.org/std/cmp/trait.Ord.html), a vector of ints can simply be sorted as"
   ]
  },
  {
   "cell_type": "code",
   "execution_count": 3,
   "metadata": {},
   "outputs": [
    {
     "name": "stdout",
     "output_type": "stream",
     "text": [
      "[1, 5, 10, 13, 19, 69]\n"
     ]
    }
   ],
   "source": [
    "let mut integers = vec![5, 10, 1, 13, 69, 19];\n",
    "integers.sort();\n",
    "println!(\"{:?}\", integers);"
   ]
  },
  {
   "cell_type": "markdown",
   "metadata": {},
   "source": [
    "However, floats are only [std::cmp::PartialOrd](https://doc.rust-lang.org/std/cmp/trait.PartialOrd.html) and contains NaN, which is not a number. Thus, this case must be handled specifically, e.g. using a wrapper function as  "
   ]
  },
  {
   "cell_type": "code",
   "execution_count": 4,
   "metadata": {},
   "outputs": [],
   "source": [
    "fn order_nanlast<F: Float>(a: &F, b: &F) -> Ordering {\n",
    "    /// Order floats by putting NaN last\n",
    "    match (a, b) {\n",
    "        (x, y) if x.is_nan() && y.is_nan() => Ordering::Equal,\n",
    "        (x, _) if x.is_nan() => Ordering::Greater,\n",
    "        (_, y) if y.is_nan() => Ordering::Less,\n",
    "        (_, _) => a.partial_cmp(b).unwrap()\n",
    "    }\n",
    "}"
   ]
  },
  {
   "cell_type": "code",
   "execution_count": 5,
   "metadata": {},
   "outputs": [],
   "source": [
    "let mut numbers = vec![5.0, NEG_INFINITY, 3.14, NAN, 6.9, INFINITY, 2.72, 1.57];"
   ]
  },
  {
   "cell_type": "code",
   "execution_count": 6,
   "metadata": {},
   "outputs": [
    {
     "data": {
      "text/html": [
       "<table><tr><th>Variable</th><th>Type</th></tr><tr><td>numbers</td><td>std::vec::Vec&lt;f64&gt;</td><tr><tr><td>integers</td><td>std::vec::Vec&lt;i32&gt;</td><tr></table>"
      ],
      "text/plain": [
       "numbers: std::vec::Vec<f64>\n",
       "integers: std::vec::Vec<i32>\n"
      ]
     },
     "execution_count": 6,
     "metadata": {},
     "output_type": "execute_result"
    }
   ],
   "source": [
    ":vars"
   ]
  },
  {
   "cell_type": "code",
   "execution_count": 7,
   "metadata": {},
   "outputs": [
    {
     "name": "stdout",
     "output_type": "stream",
     "text": [
      "[-inf, 1.57, 2.72, 3.14, 5.0, 6.9, inf, NaN]\n"
     ]
    }
   ],
   "source": [
    "numbers.sort_by(order_nanlast);\n",
    "println!(\"{:?}\", numbers);"
   ]
  }
 ],
 "metadata": {
  "kernelspec": {
   "display_name": "Rust",
   "language": "rust",
   "name": "rust"
  },
  "language_info": {
   "codemirror_mode": "rust",
   "file_extension": ".rs",
   "mimetype": "text/rust",
   "name": "Rust",
   "pygment_lexer": "rust",
   "version": ""
  }
 },
 "nbformat": 4,
 "nbformat_minor": 4
}
