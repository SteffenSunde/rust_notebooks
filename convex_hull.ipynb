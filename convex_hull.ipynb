{
 "cells": [
  {
   "cell_type": "markdown",
   "metadata": {},
   "source": [
    "# Convex hull\n",
    "\n",
    "The convex hull (CH) of a set of points is the smallest convex set containing said points [1]. The CH is one of the fundamental operators in computational geometry and there are many important [applications](https://en.wikipedia.org/wiki/Convex_hull#Applications), e.g. in computer graphics and material fatigue calculations. Consequently, there are many algorithms for computing the CH and it can be shown to be solved in $O(nlogn)$ [2]. In this article we walk through an implementation of such algorithm. Further optimisations are possible and left as an exercise to the reader.. \n",
    "\n",
    "[1] [Wikipedia: Convex hull](https://en.wikipedia.org/wiki/Convex_hull)<br />\n",
    "[2] Mark de Berg et al. (2008) Computational Geometry, DOI 10.1007/978-3-540-77974-2."
   ]
  },
  {
   "cell_type": "markdown",
   "metadata": {},
   "source": [
    "Lets start by defining a representation of the points. For simplicity, the points are defined in real numbers i32 for now. This way we avoid having to handle rounding errors and [NaNs and stuff](sorting_float.ipynb)."
   ]
  },
  {
   "cell_type": "code",
   "execution_count": 2,
   "metadata": {},
   "outputs": [],
   "source": [
    "#[derive(Debug, PartialEq, Eq, PartialOrd, Ord, Clone, Copy)]\n",
    "struct Point {\n",
    "    x: i32,\n",
    "    y: i32\n",
    "}"
   ]
  },
  {
   "cell_type": "markdown",
   "metadata": {},
   "source": [
    "Here the compiler is told to automatically implement traits derived using the [#[derive]](https://doc.rust-lang.org/stable/rust-by-example/trait/derive.html) attribute.\n",
    "- Deriving [Debug](https://doc.rust-lang.org/std/fmt/trait.Debug.html) let's us easily print the struct through {:?} formatter\n",
    "- Deriving [PartialEq](https://doc.rust-lang.org/std/cmp/trait.PartialEq.html) and [Eq](https://doc.rust-lang.org/std/cmp/trait.Eq.html) makes the type comparable by eqivalence\n",
    "- [PartialOrd](https://doc.rust-lang.org/std/cmp/trait.PartialEq.html) makes our type ordered so that it can be sorted\n",
    "- [Ord](https://doc.rust-lang.org/std/cmp/trait.Ord.html): All struct fields are Ord. struct becomes lexicographically ordered \n",
    "- [Clone](https://doc.rust-lang.org/std/clone/trait.Clone.html) is required for struct to be Copy.\n",
    "- [Copy](https://doc.rust-lang.org/std/marker/trait.Copy.html) because all fields are trivially and inexpensively copyable."
   ]
  },
  {
   "cell_type": "code",
   "execution_count": 3,
   "metadata": {},
   "outputs": [
    {
     "name": "stdout",
     "output_type": "stream",
     "text": [
      "Point { x: 10, y: 20 }\n"
     ]
    }
   ],
   "source": [
    "println!(\"{:?}\", Point{x: 10, y: 20});"
   ]
  },
  {
   "cell_type": "markdown",
   "metadata": {},
   "source": [
    "Construction of objects are usually preferred in rust using the [builder-pattern](https://doc.rust-lang.org/1.0.0/style/ownership/builders.html), and naming a zero cost constructor using function named new(). The point struct is trivial and so this is not really necessary, but it is nicer than using bracket construction for every point."
   ]
  },
  {
   "cell_type": "code",
   "execution_count": 4,
   "metadata": {},
   "outputs": [],
   "source": [
    "impl Point {\n",
    "    fn new(x: i32, y: i32) -> Self {\n",
    "        Self {x, y}\n",
    "    }\n",
    "}"
   ]
  },
  {
   "cell_type": "code",
   "execution_count": 5,
   "metadata": {},
   "outputs": [
    {
     "data": {
      "text/html": [
       "<table><tr><th>Variable</th><th>Type</th></tr><tr><td>a</td><td>Point</td><tr></table>"
      ],
      "text/plain": [
       "a: Point\n"
      ]
     },
     "execution_count": 5,
     "metadata": {},
     "output_type": "execute_result"
    }
   ],
   "source": [
    "let a = Point::new(1,1);\n",
    ":vars"
   ]
  },
  {
   "cell_type": "markdown",
   "metadata": {},
   "source": [
    "## The algorithm\n",
    "\n",
    "The idea of the algorithm is to traverse the sorted list of points and simply discarding the points that does not form a right turn. The points are first sorted lexicographically and are then traversed twice; once left to right for forming the upper part of the hull and once right to left for the lower part. The two parts are then combined so that the points of the convex hull are given uniquely starting from the lexicographically lowest point and following the hull in counter-clockwise fashion.\n",
    "\n",
    "First lets bikeshed the representation of orientation."
   ]
  },
  {
   "cell_type": "code",
   "execution_count": 6,
   "metadata": {},
   "outputs": [],
   "source": [
    "#[derive(Debug)]\n",
    "enum Turn {\n",
    "    CW,   // Clockwise\n",
    "    CCW,  // Counter-clockwise\n",
    "}"
   ]
  },
  {
   "cell_type": "code",
   "execution_count": 7,
   "metadata": {},
   "outputs": [],
   "source": [
    "/// Returns the orientation of three consecutive points in the 2D plane.\n",
    "fn orientation(a: &Point, b: &Point, c: &Point) -> Option<Turn> {\n",
    "    let crossprod = (b.x - a.x)*(c.y - b.y) - (b.y - a.y)*(c.x - b.x);\n",
    "    if crossprod < 0 {\n",
    "        Some(Turn::CW)\n",
    "    } else if crossprod > 0 {\n",
    "        Some(Turn::CCW)\n",
    "    } else {\n",
    "        None\n",
    "    }\n",
    "}"
   ]
  },
  {
   "cell_type": "code",
   "execution_count": 8,
   "metadata": {},
   "outputs": [
    {
     "name": "stdout",
     "output_type": "stream",
     "text": [
      "Some(CCW)\n",
      "Some(CW)\n",
      "None\n"
     ]
    }
   ],
   "source": [
    "println!(\"{:?}\", orientation(&Point{x: 0, y: 0}, &Point{x: 1, y: 0}, &Point{x: 1, y: 1}));\n",
    "println!(\"{:?}\", orientation(&Point{x: 0, y: 0}, &Point{x: 0, y: 1}, &Point{x: 1, y: 1}));\n",
    "println!(\"{:?}\", orientation(&Point{x: 0, y: 0}, &Point{x: 1, y: 1}, &Point{x: 2, y: 2}));"
   ]
  },
  {
   "cell_type": "code",
   "execution_count": 9,
   "metadata": {},
   "outputs": [],
   "source": [
    "/// Computes the convex hull of given points in O(nlogn)\n",
    "fn convex_hull(points: &Vec<Point>) -> Vec<Point> {\n",
    "    let mut points = points.clone();\n",
    "    points.sort();  // How to make sorted AND immutable?\n",
    "    let n = points.len();\n",
    "    \n",
    "    // Traverse points to form the upper part of CH\n",
    "    let mut upper = Vec::new();\n",
    "    upper.push(points[0]);\n",
    "    upper.push(points[1]);\n",
    "    for i in 2..n {\n",
    "        let mut pos = 0;\n",
    "        while upper.len() - pos >= 2 {\n",
    "            let length = upper.len();\n",
    "            if let Some(Turn::CW) = orientation(&upper[length-pos-2], &upper[length-pos-1], &points[i]) {\n",
    "                pos = pos + 1;  // Middle point belongs to to the CH for now\n",
    "            } else {\n",
    "                upper.remove(length-pos-1);  // Middle point is not on the CH boundary: remove.\n",
    "            }\n",
    "        }\n",
    "        upper.push(points[i]);\n",
    "    }\n",
    "    \n",
    "    // Traverse points to form the lower part of CH\n",
    "    let mut lower = Vec::new();\n",
    "    lower.push(points[n-1]);\n",
    "    lower.push(points[n-2]);\n",
    "    for i in (0..=n-3).rev() {\n",
    "        let mut pos = 0;\n",
    "        while lower.len() - pos >= 2 {\n",
    "            let length = lower.len();\n",
    "            if let Some(Turn::CW) = orientation(&lower[length-pos-2], &lower[length-pos-1], &points[i]) {\n",
    "                pos = pos + 1;  // Middle point belongs to to the CH for now\n",
    "            } else {\n",
    "                lower.remove(length-pos-1);  // Middle point is not on the CH boundary: remove.\n",
    "            }\n",
    "        }\n",
    "        lower.push(points[i]);\n",
    "    }\n",
    "    \n",
    "    // Return upper + lower concatenated. First and last of lower are removed because already present in upper.\n",
    "    [&upper[..], &lower[1..lower.len()-1]].concat()\n",
    "}"
   ]
  },
  {
   "cell_type": "markdown",
   "metadata": {},
   "source": [
    "### Example usage\n",
    "\n",
    "Testing the algorithm for an example set of points"
   ]
  },
  {
   "cell_type": "code",
   "execution_count": 10,
   "metadata": {},
   "outputs": [
    {
     "data": {
      "text/plain": [
       "[Point { x: 0, y: 5 }, Point { x: 3, y: 6 }, Point { x: 5, y: 2 }, Point { x: 1, y: 1 }]"
      ]
     },
     "execution_count": 10,
     "metadata": {},
     "output_type": "execute_result"
    }
   ],
   "source": [
    "let points = vec![\n",
    "    Point::new(3, 6),\n",
    "    Point::new(5, 2),\n",
    "    Point::new(4, 4),\n",
    "    Point::new(2, 3),\n",
    "    Point::new(1, 1),\n",
    "    Point::new(4, 3),\n",
    "    Point::new(3, 4),\n",
    "    Point::new(0, 5),\n",
    "];\n",
    "\n",
    "let mut ch = convex_hull(&points);\n",
    "ch"
   ]
  },
  {
   "cell_type": "code",
   "execution_count": 14,
   "metadata": {},
   "outputs": [],
   "source": [
    "ch.push(ch[0]);  // Little trick to make CH close on itself."
   ]
  },
  {
   "cell_type": "markdown",
   "metadata": {},
   "source": [
    "### Plot\n",
    "\n",
    "Using [plotters](https://github.com/38/plotters) library to visually display the resulting convex hull."
   ]
  },
  {
   "cell_type": "code",
   "execution_count": 12,
   "metadata": {},
   "outputs": [],
   "source": [
    ":dep plotters = { git = \"https://github.com/38/plotters\", default_features = false, features = [\"evcxr\", \"line_series\", \"point_series\"] }\n",
    "extern crate plotters;\n",
    "use plotters::prelude::*;\n",
    "use plotters::series::*;"
   ]
  },
  {
   "cell_type": "code",
   "execution_count": 13,
   "metadata": {},
   "outputs": [
    {
     "data": {
      "text/html": [
       "<div style=\"\"><svg width=\"640\" height=\"480\" viewBox=\"0 0 640 480\" xmlns=\"http://www.w3.org/2000/svg\">\n",
       "<rect x=\"0\" y=\"0\" width=\"639\" height=\"479\" opacity=\"1\" fill=\"#FFFFFF\" stroke=\"none\"/>\n",
       "<line opacity=\"0.1\" stroke=\"#000000\" stroke-width=\"1\" x1=\"45\" y1=\"444\" x2=\"45\" y2=\"4\"/>\n",
       "<line opacity=\"0.1\" stroke=\"#000000\" stroke-width=\"1\" x1=\"55\" y1=\"444\" x2=\"55\" y2=\"4\"/>\n",
       "<line opacity=\"0.1\" stroke=\"#000000\" stroke-width=\"1\" x1=\"65\" y1=\"444\" x2=\"65\" y2=\"4\"/>\n",
       "<line opacity=\"0.1\" stroke=\"#000000\" stroke-width=\"1\" x1=\"75\" y1=\"444\" x2=\"75\" y2=\"4\"/>\n",
       "<line opacity=\"0.1\" stroke=\"#000000\" stroke-width=\"1\" x1=\"85\" y1=\"444\" x2=\"85\" y2=\"4\"/>\n",
       "<line opacity=\"0.1\" stroke=\"#000000\" stroke-width=\"1\" x1=\"95\" y1=\"444\" x2=\"95\" y2=\"4\"/>\n",
       "<line opacity=\"0.1\" stroke=\"#000000\" stroke-width=\"1\" x1=\"105\" y1=\"444\" x2=\"105\" y2=\"4\"/>\n",
       "<line opacity=\"0.1\" stroke=\"#000000\" stroke-width=\"1\" x1=\"115\" y1=\"444\" x2=\"115\" y2=\"4\"/>\n",
       "<line opacity=\"0.1\" stroke=\"#000000\" stroke-width=\"1\" x1=\"125\" y1=\"444\" x2=\"125\" y2=\"4\"/>\n",
       "<line opacity=\"0.1\" stroke=\"#000000\" stroke-width=\"1\" x1=\"135\" y1=\"444\" x2=\"135\" y2=\"4\"/>\n",
       "<line opacity=\"0.1\" stroke=\"#000000\" stroke-width=\"1\" x1=\"145\" y1=\"444\" x2=\"145\" y2=\"4\"/>\n",
       "<line opacity=\"0.1\" stroke=\"#000000\" stroke-width=\"1\" x1=\"155\" y1=\"444\" x2=\"155\" y2=\"4\"/>\n",
       "<line opacity=\"0.1\" stroke=\"#000000\" stroke-width=\"1\" x1=\"165\" y1=\"444\" x2=\"165\" y2=\"4\"/>\n",
       "<line opacity=\"0.1\" stroke=\"#000000\" stroke-width=\"1\" x1=\"175\" y1=\"444\" x2=\"175\" y2=\"4\"/>\n",
       "<line opacity=\"0.1\" stroke=\"#000000\" stroke-width=\"1\" x1=\"185\" y1=\"444\" x2=\"185\" y2=\"4\"/>\n",
       "<line opacity=\"0.1\" stroke=\"#000000\" stroke-width=\"1\" x1=\"195\" y1=\"444\" x2=\"195\" y2=\"4\"/>\n",
       "<line opacity=\"0.1\" stroke=\"#000000\" stroke-width=\"1\" x1=\"205\" y1=\"444\" x2=\"205\" y2=\"4\"/>\n",
       "<line opacity=\"0.1\" stroke=\"#000000\" stroke-width=\"1\" x1=\"215\" y1=\"444\" x2=\"215\" y2=\"4\"/>\n",
       "<line opacity=\"0.1\" stroke=\"#000000\" stroke-width=\"1\" x1=\"225\" y1=\"444\" x2=\"225\" y2=\"4\"/>\n",
       "<line opacity=\"0.1\" stroke=\"#000000\" stroke-width=\"1\" x1=\"235\" y1=\"444\" x2=\"235\" y2=\"4\"/>\n",
       "<line opacity=\"0.1\" stroke=\"#000000\" stroke-width=\"1\" x1=\"245\" y1=\"444\" x2=\"245\" y2=\"4\"/>\n",
       "<line opacity=\"0.1\" stroke=\"#000000\" stroke-width=\"1\" x1=\"255\" y1=\"444\" x2=\"255\" y2=\"4\"/>\n",
       "<line opacity=\"0.1\" stroke=\"#000000\" stroke-width=\"1\" x1=\"265\" y1=\"444\" x2=\"265\" y2=\"4\"/>\n",
       "<line opacity=\"0.1\" stroke=\"#000000\" stroke-width=\"1\" x1=\"275\" y1=\"444\" x2=\"275\" y2=\"4\"/>\n",
       "<line opacity=\"0.1\" stroke=\"#000000\" stroke-width=\"1\" x1=\"285\" y1=\"444\" x2=\"285\" y2=\"4\"/>\n",
       "<line opacity=\"0.1\" stroke=\"#000000\" stroke-width=\"1\" x1=\"295\" y1=\"444\" x2=\"295\" y2=\"4\"/>\n",
       "<line opacity=\"0.1\" stroke=\"#000000\" stroke-width=\"1\" x1=\"305\" y1=\"444\" x2=\"305\" y2=\"4\"/>\n",
       "<line opacity=\"0.1\" stroke=\"#000000\" stroke-width=\"1\" x1=\"315\" y1=\"444\" x2=\"315\" y2=\"4\"/>\n",
       "<line opacity=\"0.1\" stroke=\"#000000\" stroke-width=\"1\" x1=\"325\" y1=\"444\" x2=\"325\" y2=\"4\"/>\n",
       "<line opacity=\"0.1\" stroke=\"#000000\" stroke-width=\"1\" x1=\"335\" y1=\"444\" x2=\"335\" y2=\"4\"/>\n",
       "<line opacity=\"0.1\" stroke=\"#000000\" stroke-width=\"1\" x1=\"345\" y1=\"444\" x2=\"345\" y2=\"4\"/>\n",
       "<line opacity=\"0.1\" stroke=\"#000000\" stroke-width=\"1\" x1=\"355\" y1=\"444\" x2=\"355\" y2=\"4\"/>\n",
       "<line opacity=\"0.1\" stroke=\"#000000\" stroke-width=\"1\" x1=\"365\" y1=\"444\" x2=\"365\" y2=\"4\"/>\n",
       "<line opacity=\"0.1\" stroke=\"#000000\" stroke-width=\"1\" x1=\"375\" y1=\"444\" x2=\"375\" y2=\"4\"/>\n",
       "<line opacity=\"0.1\" stroke=\"#000000\" stroke-width=\"1\" x1=\"385\" y1=\"444\" x2=\"385\" y2=\"4\"/>\n",
       "<line opacity=\"0.1\" stroke=\"#000000\" stroke-width=\"1\" x1=\"395\" y1=\"444\" x2=\"395\" y2=\"4\"/>\n",
       "<line opacity=\"0.1\" stroke=\"#000000\" stroke-width=\"1\" x1=\"405\" y1=\"444\" x2=\"405\" y2=\"4\"/>\n",
       "<line opacity=\"0.1\" stroke=\"#000000\" stroke-width=\"1\" x1=\"415\" y1=\"444\" x2=\"415\" y2=\"4\"/>\n",
       "<line opacity=\"0.1\" stroke=\"#000000\" stroke-width=\"1\" x1=\"425\" y1=\"444\" x2=\"425\" y2=\"4\"/>\n",
       "<line opacity=\"0.1\" stroke=\"#000000\" stroke-width=\"1\" x1=\"435\" y1=\"444\" x2=\"435\" y2=\"4\"/>\n",
       "<line opacity=\"0.1\" stroke=\"#000000\" stroke-width=\"1\" x1=\"445\" y1=\"444\" x2=\"445\" y2=\"4\"/>\n",
       "<line opacity=\"0.1\" stroke=\"#000000\" stroke-width=\"1\" x1=\"455\" y1=\"444\" x2=\"455\" y2=\"4\"/>\n",
       "<line opacity=\"0.1\" stroke=\"#000000\" stroke-width=\"1\" x1=\"465\" y1=\"444\" x2=\"465\" y2=\"4\"/>\n",
       "<line opacity=\"0.1\" stroke=\"#000000\" stroke-width=\"1\" x1=\"475\" y1=\"444\" x2=\"475\" y2=\"4\"/>\n",
       "<line opacity=\"0.1\" stroke=\"#000000\" stroke-width=\"1\" x1=\"485\" y1=\"444\" x2=\"485\" y2=\"4\"/>\n",
       "<line opacity=\"0.1\" stroke=\"#000000\" stroke-width=\"1\" x1=\"495\" y1=\"444\" x2=\"495\" y2=\"4\"/>\n",
       "<line opacity=\"0.1\" stroke=\"#000000\" stroke-width=\"1\" x1=\"505\" y1=\"444\" x2=\"505\" y2=\"4\"/>\n",
       "<line opacity=\"0.1\" stroke=\"#000000\" stroke-width=\"1\" x1=\"515\" y1=\"444\" x2=\"515\" y2=\"4\"/>\n",
       "<line opacity=\"0.1\" stroke=\"#000000\" stroke-width=\"1\" x1=\"525\" y1=\"444\" x2=\"525\" y2=\"4\"/>\n",
       "<line opacity=\"0.1\" stroke=\"#000000\" stroke-width=\"1\" x1=\"535\" y1=\"444\" x2=\"535\" y2=\"4\"/>\n",
       "<line opacity=\"0.1\" stroke=\"#000000\" stroke-width=\"1\" x1=\"545\" y1=\"444\" x2=\"545\" y2=\"4\"/>\n",
       "<line opacity=\"0.1\" stroke=\"#000000\" stroke-width=\"1\" x1=\"555\" y1=\"444\" x2=\"555\" y2=\"4\"/>\n",
       "<line opacity=\"0.1\" stroke=\"#000000\" stroke-width=\"1\" x1=\"565\" y1=\"444\" x2=\"565\" y2=\"4\"/>\n",
       "<line opacity=\"0.1\" stroke=\"#000000\" stroke-width=\"1\" x1=\"575\" y1=\"444\" x2=\"575\" y2=\"4\"/>\n",
       "<line opacity=\"0.1\" stroke=\"#000000\" stroke-width=\"1\" x1=\"585\" y1=\"444\" x2=\"585\" y2=\"4\"/>\n",
       "<line opacity=\"0.1\" stroke=\"#000000\" stroke-width=\"1\" x1=\"595\" y1=\"444\" x2=\"595\" y2=\"4\"/>\n",
       "<line opacity=\"0.1\" stroke=\"#000000\" stroke-width=\"1\" x1=\"605\" y1=\"444\" x2=\"605\" y2=\"4\"/>\n",
       "<line opacity=\"0.1\" stroke=\"#000000\" stroke-width=\"1\" x1=\"615\" y1=\"444\" x2=\"615\" y2=\"4\"/>\n",
       "<line opacity=\"0.1\" stroke=\"#000000\" stroke-width=\"1\" x1=\"625\" y1=\"444\" x2=\"625\" y2=\"4\"/>\n",
       "<line opacity=\"0.1\" stroke=\"#000000\" stroke-width=\"1\" x1=\"635\" y1=\"444\" x2=\"635\" y2=\"4\"/>\n",
       "<line opacity=\"0.1\" stroke=\"#000000\" stroke-width=\"1\" x1=\"35\" y1=\"436\" x2=\"635\" y2=\"436\"/>\n",
       "<line opacity=\"0.1\" stroke=\"#000000\" stroke-width=\"1\" x1=\"35\" y1=\"429\" x2=\"635\" y2=\"429\"/>\n",
       "<line opacity=\"0.1\" stroke=\"#000000\" stroke-width=\"1\" x1=\"35\" y1=\"422\" x2=\"635\" y2=\"422\"/>\n",
       "<line opacity=\"0.1\" stroke=\"#000000\" stroke-width=\"1\" x1=\"35\" y1=\"414\" x2=\"635\" y2=\"414\"/>\n",
       "<line opacity=\"0.1\" stroke=\"#000000\" stroke-width=\"1\" x1=\"35\" y1=\"407\" x2=\"635\" y2=\"407\"/>\n",
       "<line opacity=\"0.1\" stroke=\"#000000\" stroke-width=\"1\" x1=\"35\" y1=\"400\" x2=\"635\" y2=\"400\"/>\n",
       "<line opacity=\"0.1\" stroke=\"#000000\" stroke-width=\"1\" x1=\"35\" y1=\"392\" x2=\"635\" y2=\"392\"/>\n",
       "<line opacity=\"0.1\" stroke=\"#000000\" stroke-width=\"1\" x1=\"35\" y1=\"385\" x2=\"635\" y2=\"385\"/>\n",
       "<line opacity=\"0.1\" stroke=\"#000000\" stroke-width=\"1\" x1=\"35\" y1=\"378\" x2=\"635\" y2=\"378\"/>\n",
       "<line opacity=\"0.1\" stroke=\"#000000\" stroke-width=\"1\" x1=\"35\" y1=\"370\" x2=\"635\" y2=\"370\"/>\n",
       "<line opacity=\"0.1\" stroke=\"#000000\" stroke-width=\"1\" x1=\"35\" y1=\"363\" x2=\"635\" y2=\"363\"/>\n",
       "<line opacity=\"0.1\" stroke=\"#000000\" stroke-width=\"1\" x1=\"35\" y1=\"356\" x2=\"635\" y2=\"356\"/>\n",
       "<line opacity=\"0.1\" stroke=\"#000000\" stroke-width=\"1\" x1=\"35\" y1=\"348\" x2=\"635\" y2=\"348\"/>\n",
       "<line opacity=\"0.1\" stroke=\"#000000\" stroke-width=\"1\" x1=\"35\" y1=\"341\" x2=\"635\" y2=\"341\"/>\n",
       "<line opacity=\"0.1\" stroke=\"#000000\" stroke-width=\"1\" x1=\"35\" y1=\"334\" x2=\"635\" y2=\"334\"/>\n",
       "<line opacity=\"0.1\" stroke=\"#000000\" stroke-width=\"1\" x1=\"35\" y1=\"326\" x2=\"635\" y2=\"326\"/>\n",
       "<line opacity=\"0.1\" stroke=\"#000000\" stroke-width=\"1\" x1=\"35\" y1=\"319\" x2=\"635\" y2=\"319\"/>\n",
       "<line opacity=\"0.1\" stroke=\"#000000\" stroke-width=\"1\" x1=\"35\" y1=\"312\" x2=\"635\" y2=\"312\"/>\n",
       "<line opacity=\"0.1\" stroke=\"#000000\" stroke-width=\"1\" x1=\"35\" y1=\"304\" x2=\"635\" y2=\"304\"/>\n",
       "<line opacity=\"0.1\" stroke=\"#000000\" stroke-width=\"1\" x1=\"35\" y1=\"297\" x2=\"635\" y2=\"297\"/>\n",
       "<line opacity=\"0.1\" stroke=\"#000000\" stroke-width=\"1\" x1=\"35\" y1=\"290\" x2=\"635\" y2=\"290\"/>\n",
       "<line opacity=\"0.1\" stroke=\"#000000\" stroke-width=\"1\" x1=\"35\" y1=\"282\" x2=\"635\" y2=\"282\"/>\n",
       "<line opacity=\"0.1\" stroke=\"#000000\" stroke-width=\"1\" x1=\"35\" y1=\"275\" x2=\"635\" y2=\"275\"/>\n",
       "<line opacity=\"0.1\" stroke=\"#000000\" stroke-width=\"1\" x1=\"35\" y1=\"268\" x2=\"635\" y2=\"268\"/>\n",
       "<line opacity=\"0.1\" stroke=\"#000000\" stroke-width=\"1\" x1=\"35\" y1=\"260\" x2=\"635\" y2=\"260\"/>\n",
       "<line opacity=\"0.1\" stroke=\"#000000\" stroke-width=\"1\" x1=\"35\" y1=\"253\" x2=\"635\" y2=\"253\"/>\n",
       "<line opacity=\"0.1\" stroke=\"#000000\" stroke-width=\"1\" x1=\"35\" y1=\"246\" x2=\"635\" y2=\"246\"/>\n",
       "<line opacity=\"0.1\" stroke=\"#000000\" stroke-width=\"1\" x1=\"35\" y1=\"238\" x2=\"635\" y2=\"238\"/>\n",
       "<line opacity=\"0.1\" stroke=\"#000000\" stroke-width=\"1\" x1=\"35\" y1=\"231\" x2=\"635\" y2=\"231\"/>\n",
       "<line opacity=\"0.1\" stroke=\"#000000\" stroke-width=\"1\" x1=\"35\" y1=\"224\" x2=\"635\" y2=\"224\"/>\n",
       "<line opacity=\"0.1\" stroke=\"#000000\" stroke-width=\"1\" x1=\"35\" y1=\"216\" x2=\"635\" y2=\"216\"/>\n",
       "<line opacity=\"0.1\" stroke=\"#000000\" stroke-width=\"1\" x1=\"35\" y1=\"209\" x2=\"635\" y2=\"209\"/>\n",
       "<line opacity=\"0.1\" stroke=\"#000000\" stroke-width=\"1\" x1=\"35\" y1=\"202\" x2=\"635\" y2=\"202\"/>\n",
       "<line opacity=\"0.1\" stroke=\"#000000\" stroke-width=\"1\" x1=\"35\" y1=\"194\" x2=\"635\" y2=\"194\"/>\n",
       "<line opacity=\"0.1\" stroke=\"#000000\" stroke-width=\"1\" x1=\"35\" y1=\"187\" x2=\"635\" y2=\"187\"/>\n",
       "<line opacity=\"0.1\" stroke=\"#000000\" stroke-width=\"1\" x1=\"35\" y1=\"180\" x2=\"635\" y2=\"180\"/>\n",
       "<line opacity=\"0.1\" stroke=\"#000000\" stroke-width=\"1\" x1=\"35\" y1=\"172\" x2=\"635\" y2=\"172\"/>\n",
       "<line opacity=\"0.1\" stroke=\"#000000\" stroke-width=\"1\" x1=\"35\" y1=\"165\" x2=\"635\" y2=\"165\"/>\n",
       "<line opacity=\"0.1\" stroke=\"#000000\" stroke-width=\"1\" x1=\"35\" y1=\"158\" x2=\"635\" y2=\"158\"/>\n",
       "<line opacity=\"0.1\" stroke=\"#000000\" stroke-width=\"1\" x1=\"35\" y1=\"150\" x2=\"635\" y2=\"150\"/>\n",
       "<line opacity=\"0.1\" stroke=\"#000000\" stroke-width=\"1\" x1=\"35\" y1=\"143\" x2=\"635\" y2=\"143\"/>\n",
       "<line opacity=\"0.1\" stroke=\"#000000\" stroke-width=\"1\" x1=\"35\" y1=\"136\" x2=\"635\" y2=\"136\"/>\n",
       "<line opacity=\"0.1\" stroke=\"#000000\" stroke-width=\"1\" x1=\"35\" y1=\"128\" x2=\"635\" y2=\"128\"/>\n",
       "<line opacity=\"0.1\" stroke=\"#000000\" stroke-width=\"1\" x1=\"35\" y1=\"121\" x2=\"635\" y2=\"121\"/>\n",
       "<line opacity=\"0.1\" stroke=\"#000000\" stroke-width=\"1\" x1=\"35\" y1=\"114\" x2=\"635\" y2=\"114\"/>\n",
       "<line opacity=\"0.1\" stroke=\"#000000\" stroke-width=\"1\" x1=\"35\" y1=\"106\" x2=\"635\" y2=\"106\"/>\n",
       "<line opacity=\"0.1\" stroke=\"#000000\" stroke-width=\"1\" x1=\"35\" y1=\"99\" x2=\"635\" y2=\"99\"/>\n",
       "<line opacity=\"0.1\" stroke=\"#000000\" stroke-width=\"1\" x1=\"35\" y1=\"92\" x2=\"635\" y2=\"92\"/>\n",
       "<line opacity=\"0.1\" stroke=\"#000000\" stroke-width=\"1\" x1=\"35\" y1=\"84\" x2=\"635\" y2=\"84\"/>\n",
       "<line opacity=\"0.1\" stroke=\"#000000\" stroke-width=\"1\" x1=\"35\" y1=\"77\" x2=\"635\" y2=\"77\"/>\n",
       "<line opacity=\"0.1\" stroke=\"#000000\" stroke-width=\"1\" x1=\"35\" y1=\"70\" x2=\"635\" y2=\"70\"/>\n",
       "<line opacity=\"0.1\" stroke=\"#000000\" stroke-width=\"1\" x1=\"35\" y1=\"62\" x2=\"635\" y2=\"62\"/>\n",
       "<line opacity=\"0.1\" stroke=\"#000000\" stroke-width=\"1\" x1=\"35\" y1=\"55\" x2=\"635\" y2=\"55\"/>\n",
       "<line opacity=\"0.1\" stroke=\"#000000\" stroke-width=\"1\" x1=\"35\" y1=\"48\" x2=\"635\" y2=\"48\"/>\n",
       "<line opacity=\"0.1\" stroke=\"#000000\" stroke-width=\"1\" x1=\"35\" y1=\"40\" x2=\"635\" y2=\"40\"/>\n",
       "<line opacity=\"0.1\" stroke=\"#000000\" stroke-width=\"1\" x1=\"35\" y1=\"33\" x2=\"635\" y2=\"33\"/>\n",
       "<line opacity=\"0.1\" stroke=\"#000000\" stroke-width=\"1\" x1=\"35\" y1=\"26\" x2=\"635\" y2=\"26\"/>\n",
       "<line opacity=\"0.1\" stroke=\"#000000\" stroke-width=\"1\" x1=\"35\" y1=\"18\" x2=\"635\" y2=\"18\"/>\n",
       "<line opacity=\"0.1\" stroke=\"#000000\" stroke-width=\"1\" x1=\"35\" y1=\"11\" x2=\"635\" y2=\"11\"/>\n",
       "<line opacity=\"0.1\" stroke=\"#000000\" stroke-width=\"1\" x1=\"35\" y1=\"4\" x2=\"635\" y2=\"4\"/>\n",
       "<line opacity=\"0.2\" stroke=\"#000000\" stroke-width=\"1\" x1=\"135\" y1=\"444\" x2=\"135\" y2=\"4\"/>\n",
       "<line opacity=\"0.2\" stroke=\"#000000\" stroke-width=\"1\" x1=\"235\" y1=\"444\" x2=\"235\" y2=\"4\"/>\n",
       "<line opacity=\"0.2\" stroke=\"#000000\" stroke-width=\"1\" x1=\"335\" y1=\"444\" x2=\"335\" y2=\"4\"/>\n",
       "<line opacity=\"0.2\" stroke=\"#000000\" stroke-width=\"1\" x1=\"435\" y1=\"444\" x2=\"435\" y2=\"4\"/>\n",
       "<line opacity=\"0.2\" stroke=\"#000000\" stroke-width=\"1\" x1=\"535\" y1=\"444\" x2=\"535\" y2=\"4\"/>\n",
       "<line opacity=\"0.2\" stroke=\"#000000\" stroke-width=\"1\" x1=\"635\" y1=\"444\" x2=\"635\" y2=\"4\"/>\n",
       "<line opacity=\"0.2\" stroke=\"#000000\" stroke-width=\"1\" x1=\"35\" y1=\"370\" x2=\"635\" y2=\"370\"/>\n",
       "<line opacity=\"0.2\" stroke=\"#000000\" stroke-width=\"1\" x1=\"35\" y1=\"297\" x2=\"635\" y2=\"297\"/>\n",
       "<line opacity=\"0.2\" stroke=\"#000000\" stroke-width=\"1\" x1=\"35\" y1=\"224\" x2=\"635\" y2=\"224\"/>\n",
       "<line opacity=\"0.2\" stroke=\"#000000\" stroke-width=\"1\" x1=\"35\" y1=\"150\" x2=\"635\" y2=\"150\"/>\n",
       "<line opacity=\"0.2\" stroke=\"#000000\" stroke-width=\"1\" x1=\"35\" y1=\"77\" x2=\"635\" y2=\"77\"/>\n",
       "<line opacity=\"0.2\" stroke=\"#000000\" stroke-width=\"1\" x1=\"35\" y1=\"4\" x2=\"635\" y2=\"4\"/>\n",
       "<polyline fill=\"none\" opacity=\"1\" stroke=\"#000000\" stroke-width=\"1\" points=\"34,5 34,445 \"/>\n",
       "<text x=\"25\" y=\"370\" dy=\"0.5ex\" text-anchor=\"end\" font-family=\"sans-serif\" font-size=\"9.67741935483871\" opacity=\"1\" fill=\"#000000\">\n",
       "1.0\n",
       "</text>\n",
       "<polyline fill=\"none\" opacity=\"1\" stroke=\"#000000\" stroke-width=\"1\" points=\"29,370 34,370 \"/>\n",
       "<text x=\"25\" y=\"297\" dy=\"0.5ex\" text-anchor=\"end\" font-family=\"sans-serif\" font-size=\"9.67741935483871\" opacity=\"1\" fill=\"#000000\">\n",
       "2.0\n",
       "</text>\n",
       "<polyline fill=\"none\" opacity=\"1\" stroke=\"#000000\" stroke-width=\"1\" points=\"29,297 34,297 \"/>\n",
       "<text x=\"25\" y=\"224\" dy=\"0.5ex\" text-anchor=\"end\" font-family=\"sans-serif\" font-size=\"9.67741935483871\" opacity=\"1\" fill=\"#000000\">\n",
       "3.0\n",
       "</text>\n",
       "<polyline fill=\"none\" opacity=\"1\" stroke=\"#000000\" stroke-width=\"1\" points=\"29,224 34,224 \"/>\n",
       "<text x=\"25\" y=\"150\" dy=\"0.5ex\" text-anchor=\"end\" font-family=\"sans-serif\" font-size=\"9.67741935483871\" opacity=\"1\" fill=\"#000000\">\n",
       "4.0\n",
       "</text>\n",
       "<polyline fill=\"none\" opacity=\"1\" stroke=\"#000000\" stroke-width=\"1\" points=\"29,150 34,150 \"/>\n",
       "<text x=\"25\" y=\"77\" dy=\"0.5ex\" text-anchor=\"end\" font-family=\"sans-serif\" font-size=\"9.67741935483871\" opacity=\"1\" fill=\"#000000\">\n",
       "5.0\n",
       "</text>\n",
       "<polyline fill=\"none\" opacity=\"1\" stroke=\"#000000\" stroke-width=\"1\" points=\"29,77 34,77 \"/>\n",
       "<polyline fill=\"none\" opacity=\"1\" stroke=\"#000000\" stroke-width=\"1\" points=\"35,445 635,445 \"/>\n",
       "<text x=\"135\" y=\"455\" dy=\"0.76em\" text-anchor=\"middle\" font-family=\"sans-serif\" font-size=\"9.67741935483871\" opacity=\"1\" fill=\"#000000\">\n",
       "1.0\n",
       "</text>\n",
       "<polyline fill=\"none\" opacity=\"1\" stroke=\"#000000\" stroke-width=\"1\" points=\"135,445 135,450 \"/>\n",
       "<text x=\"235\" y=\"455\" dy=\"0.76em\" text-anchor=\"middle\" font-family=\"sans-serif\" font-size=\"9.67741935483871\" opacity=\"1\" fill=\"#000000\">\n",
       "2.0\n",
       "</text>\n",
       "<polyline fill=\"none\" opacity=\"1\" stroke=\"#000000\" stroke-width=\"1\" points=\"235,445 235,450 \"/>\n",
       "<text x=\"335\" y=\"455\" dy=\"0.76em\" text-anchor=\"middle\" font-family=\"sans-serif\" font-size=\"9.67741935483871\" opacity=\"1\" fill=\"#000000\">\n",
       "3.0\n",
       "</text>\n",
       "<polyline fill=\"none\" opacity=\"1\" stroke=\"#000000\" stroke-width=\"1\" points=\"335,445 335,450 \"/>\n",
       "<text x=\"435\" y=\"455\" dy=\"0.76em\" text-anchor=\"middle\" font-family=\"sans-serif\" font-size=\"9.67741935483871\" opacity=\"1\" fill=\"#000000\">\n",
       "4.0\n",
       "</text>\n",
       "<polyline fill=\"none\" opacity=\"1\" stroke=\"#000000\" stroke-width=\"1\" points=\"435,445 435,450 \"/>\n",
       "<text x=\"535\" y=\"455\" dy=\"0.76em\" text-anchor=\"middle\" font-family=\"sans-serif\" font-size=\"9.67741935483871\" opacity=\"1\" fill=\"#000000\">\n",
       "5.0\n",
       "</text>\n",
       "<polyline fill=\"none\" opacity=\"1\" stroke=\"#000000\" stroke-width=\"1\" points=\"535,445 535,450 \"/>\n",
       "<text x=\"635\" y=\"455\" dy=\"0.76em\" text-anchor=\"middle\" font-family=\"sans-serif\" font-size=\"9.67741935483871\" opacity=\"1\" fill=\"#000000\">\n",
       "6.0\n",
       "</text>\n",
       "<polyline fill=\"none\" opacity=\"1\" stroke=\"#000000\" stroke-width=\"1\" points=\"635,445 635,450 \"/>\n",
       "<circle cx=\"335\" cy=\"5\" r=\"5\" opacity=\"1\" fill=\"#FF0000\" stroke=\"none\"/>\n",
       "<text x=\"335\" y=\"20\" dy=\"0.76em\" text-anchor=\"start\" font-family=\"sans-serif\" font-size=\"12.096774193548388\" opacity=\"1\" fill=\"#000000\">\n",
       "(3.0, 6.0)\n",
       "</text>\n",
       "<circle cx=\"535\" cy=\"297\" r=\"5\" opacity=\"1\" fill=\"#FF0000\" stroke=\"none\"/>\n",
       "<text x=\"535\" y=\"312\" dy=\"0.76em\" text-anchor=\"start\" font-family=\"sans-serif\" font-size=\"12.096774193548388\" opacity=\"1\" fill=\"#000000\">\n",
       "(5.0, 2.0)\n",
       "</text>\n",
       "<circle cx=\"435\" cy=\"150\" r=\"5\" opacity=\"1\" fill=\"#FF0000\" stroke=\"none\"/>\n",
       "<text x=\"435\" y=\"165\" dy=\"0.76em\" text-anchor=\"start\" font-family=\"sans-serif\" font-size=\"12.096774193548388\" opacity=\"1\" fill=\"#000000\">\n",
       "(4.0, 4.0)\n",
       "</text>\n",
       "<circle cx=\"235\" cy=\"224\" r=\"5\" opacity=\"1\" fill=\"#FF0000\" stroke=\"none\"/>\n",
       "<text x=\"235\" y=\"239\" dy=\"0.76em\" text-anchor=\"start\" font-family=\"sans-serif\" font-size=\"12.096774193548388\" opacity=\"1\" fill=\"#000000\">\n",
       "(2.0, 3.0)\n",
       "</text>\n",
       "<circle cx=\"135\" cy=\"370\" r=\"5\" opacity=\"1\" fill=\"#FF0000\" stroke=\"none\"/>\n",
       "<text x=\"135\" y=\"385\" dy=\"0.76em\" text-anchor=\"start\" font-family=\"sans-serif\" font-size=\"12.096774193548388\" opacity=\"1\" fill=\"#000000\">\n",
       "(1.0, 1.0)\n",
       "</text>\n",
       "<circle cx=\"435\" cy=\"224\" r=\"5\" opacity=\"1\" fill=\"#FF0000\" stroke=\"none\"/>\n",
       "<text x=\"435\" y=\"239\" dy=\"0.76em\" text-anchor=\"start\" font-family=\"sans-serif\" font-size=\"12.096774193548388\" opacity=\"1\" fill=\"#000000\">\n",
       "(4.0, 3.0)\n",
       "</text>\n",
       "<circle cx=\"335\" cy=\"150\" r=\"5\" opacity=\"1\" fill=\"#FF0000\" stroke=\"none\"/>\n",
       "<text x=\"335\" y=\"165\" dy=\"0.76em\" text-anchor=\"start\" font-family=\"sans-serif\" font-size=\"12.096774193548388\" opacity=\"1\" fill=\"#000000\">\n",
       "(3.0, 4.0)\n",
       "</text>\n",
       "<circle cx=\"35\" cy=\"77\" r=\"5\" opacity=\"1\" fill=\"#FF0000\" stroke=\"none\"/>\n",
       "<text x=\"35\" y=\"92\" dy=\"0.76em\" text-anchor=\"start\" font-family=\"sans-serif\" font-size=\"12.096774193548388\" opacity=\"1\" fill=\"#000000\">\n",
       "(0.0, 5.0)\n",
       "</text>\n",
       "<polyline fill=\"none\" opacity=\"1\" stroke=\"#0000FF\" stroke-width=\"1\" points=\"35,77 335,5 535,297 135,370 35,77 \"/>\n",
       "<rect x=\"514\" y=\"202\" width=\"116\" height=\"45\" opacity=\"0.8\" fill=\"#FFFFFF\" stroke=\"none\"/>\n",
       "<rect x=\"514\" y=\"202\" width=\"116\" height=\"45\" opacity=\"1\" fill=\"none\" stroke=\"#000000\"/>\n",
       "<text x=\"554\" y=\"212\" dy=\"0.76em\" text-anchor=\"start\" font-family=\"sans-serif\" font-size=\"9.67741935483871\" opacity=\"1\" fill=\"#000000\">\n",
       "Input points\n",
       "</text>\n",
       "<text x=\"554\" y=\"227\" dy=\"0.76em\" text-anchor=\"start\" font-family=\"sans-serif\" font-size=\"9.67741935483871\" opacity=\"1\" fill=\"#000000\">\n",
       "Convex hull\n",
       "</text>\n",
       "<circle cx=\"534\" cy=\"217\" r=\"5\" opacity=\"1\" fill=\"#FF0000\" stroke=\"none\"/>\n",
       "<polyline fill=\"none\" opacity=\"1\" stroke=\"#0000FF\" stroke-width=\"1\" points=\"524,232 544,232 \"/>\n",
       "</svg>\n",
       "</div>"
      ]
     },
     "execution_count": 13,
     "metadata": {},
     "output_type": "execute_result"
    }
   ],
   "source": [
    "let figure = evcxr_figure((640, 480), |root| {\n",
    "    root.fill(&WHITE);\n",
    "    let mut chart = ChartBuilder::on(&root)\n",
    "        //.caption(\"Convex hull\", (\"Arial\", 32).into_font())\n",
    "        .margin(5)\n",
    "        .x_label_area_size(30)\n",
    "        .y_label_area_size(30)\n",
    "        .build_ranged(-0f32..6f32, 0f32..6f32)?;\n",
    "\n",
    "    chart.configure_mesh().draw()?;\n",
    "\n",
    "    chart.draw_series(PointSeries::of_element(\n",
    "        points.iter().map(|p: &Point| (p.x as f32, p.y as f32)),\n",
    "        5,\n",
    "        ShapeStyle::from(&RED).filled(),\n",
    "        &|coord, size, style| {\n",
    "            EmptyElement::at(coord)\n",
    "                + Circle::new((0, 0), size, style)\n",
    "                + Text::new(\n",
    "                    format!(\"{:?}\", coord),\n",
    "                    (0, 15),\n",
    "                    (\"sans-serif\", 15).into_font(),\n",
    "                )\n",
    "        },\n",
    "    )).\n",
    "    unwrap()\n",
    "    .label(\"Input points\")\n",
    "    .legend(|(x,y)| Circle::new((x+10, y), 5, ShapeStyle::from(&RED).filled()));\n",
    "    \n",
    "    chart.draw_series(LineSeries::new(\n",
    "        ch.iter().map(|p: &Point| (p.x as f32, p.y as f32)),\n",
    "        &BLUE)\n",
    "    ).unwrap()\n",
    "     .label(\"Convex hull\")\n",
    "     .legend(|(x, y) | PathElement::new(vec![(x,y), (x + 20,y)], &BLUE));\n",
    "\n",
    "    chart.configure_series_labels()\n",
    "        .background_style(&WHITE.mix(0.8))\n",
    "        .border_style(&BLACK)\n",
    "        .draw()?;\n",
    "    Ok(())\n",
    "});\n",
    "figure"
   ]
  }
 ],
 "metadata": {
  "kernelspec": {
   "display_name": "Rust",
   "language": "rust",
   "name": "rust"
  },
  "language_info": {
   "codemirror_mode": "rust",
   "file_extension": ".rs",
   "mimetype": "text/rust",
   "name": "Rust",
   "pygment_lexer": "rust",
   "version": ""
  }
 },
 "nbformat": 4,
 "nbformat_minor": 4
}
